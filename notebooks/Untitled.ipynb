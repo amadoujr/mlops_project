{
 "cells": [
  {
   "cell_type": "code",
   "execution_count": 1,
   "id": "a9e818c5-1a25-4697-ae37-b9f764395314",
   "metadata": {},
   "outputs": [
    {
     "ename": "ModuleNotFoundError",
     "evalue": "No module named 'spacy'",
     "output_type": "error",
     "traceback": [
      "\u001b[0;31m---------------------------------------------------------------------------\u001b[0m",
      "\u001b[0;31mModuleNotFoundError\u001b[0m                       Traceback (most recent call last)",
      "Cell \u001b[0;32mIn[1], line 3\u001b[0m\n\u001b[1;32m      1\u001b[0m \u001b[38;5;28;01mimport\u001b[39;00m \u001b[38;5;21;01mpandas\u001b[39;00m \u001b[38;5;28;01mas\u001b[39;00m \u001b[38;5;21;01mpd\u001b[39;00m\n\u001b[1;32m      2\u001b[0m \u001b[38;5;28;01mfrom\u001b[39;00m \u001b[38;5;21;01msklearn\u001b[39;00m\u001b[38;5;21;01m.\u001b[39;00m\u001b[38;5;21;01mfeature_extraction\u001b[39;00m\u001b[38;5;21;01m.\u001b[39;00m\u001b[38;5;21;01mtext\u001b[39;00m \u001b[38;5;28;01mimport\u001b[39;00m TfidfVectorizer\n\u001b[0;32m----> 3\u001b[0m \u001b[38;5;28;01mimport\u001b[39;00m \u001b[38;5;21;01mspacy\u001b[39;00m\n\u001b[1;32m      4\u001b[0m \u001b[38;5;28;01mfrom\u001b[39;00m \u001b[38;5;21;01mspacy\u001b[39;00m\u001b[38;5;21;01m.\u001b[39;00m\u001b[38;5;21;01mlang\u001b[39;00m\u001b[38;5;21;01m.\u001b[39;00m\u001b[38;5;21;01mfr\u001b[39;00m\u001b[38;5;21;01m.\u001b[39;00m\u001b[38;5;21;01mstop_words\u001b[39;00m \u001b[38;5;28;01mimport\u001b[39;00m STOP_WORDS \u001b[38;5;28;01mas\u001b[39;00m fr_stop\n",
      "\u001b[0;31mModuleNotFoundError\u001b[0m: No module named 'spacy'"
     ]
    }
   ],
   "source": [
    "import pandas as pd\n",
    "from sklearn.feature_extraction.text import TfidfVectorizer\n",
    "import spacy\n",
    "from spacy.lang.fr.stop_words import STOP_WORDS as fr_stop"
   ]
  },
  {
   "cell_type": "markdown",
   "id": "2ff38e27-076d-46fa-b56a-30019dd54eaf",
   "metadata": {},
   "source": [
    "### Pre-processing"
   ]
  },
  {
   "cell_type": "code",
   "execution_count": 3,
   "id": "91108428-361f-4af8-ba5a-d008469ede5e",
   "metadata": {},
   "outputs": [],
   "source": [
    "nlp = spacy.load(\"fr_core_news_sm\")\n",
    "train_data = pd.read_csv(\"../archive/train.csv\")\n",
    "valid_data = pd.read_csv(\"../archive/valid.csv\")\n",
    "test_data  = pd.read_csv(\"../archive/test.csv\")\n"
   ]
  },
  {
   "cell_type": "code",
   "execution_count": 4,
   "id": "68df0f32",
   "metadata": {},
   "outputs": [
    {
     "data": {
      "text/html": [
       "<div>\n",
       "<style scoped>\n",
       "    .dataframe tbody tr th:only-of-type {\n",
       "        vertical-align: middle;\n",
       "    }\n",
       "\n",
       "    .dataframe tbody tr th {\n",
       "        vertical-align: top;\n",
       "    }\n",
       "\n",
       "    .dataframe thead th {\n",
       "        text-align: right;\n",
       "    }\n",
       "</style>\n",
       "<table border=\"1\" class=\"dataframe\">\n",
       "  <thead>\n",
       "    <tr style=\"text-align: right;\">\n",
       "      <th></th>\n",
       "      <th>Unnamed: 0</th>\n",
       "      <th>film-url</th>\n",
       "      <th>review</th>\n",
       "      <th>polarity</th>\n",
       "    </tr>\n",
       "  </thead>\n",
       "  <tbody>\n",
       "    <tr>\n",
       "      <th>0</th>\n",
       "      <td>0</td>\n",
       "      <td>http://www.allocine.fr/film/fichefilm-135259/c...</td>\n",
       "      <td>Si vous cherchez du cinéma abrutissant à tous ...</td>\n",
       "      <td>0</td>\n",
       "    </tr>\n",
       "    <tr>\n",
       "      <th>1</th>\n",
       "      <td>1</td>\n",
       "      <td>http://www.allocine.fr/film/fichefilm-172430/c...</td>\n",
       "      <td>Trash, re-trash et re-re-trash...! Une horreur...</td>\n",
       "      <td>0</td>\n",
       "    </tr>\n",
       "    <tr>\n",
       "      <th>2</th>\n",
       "      <td>2</td>\n",
       "      <td>http://www.allocine.fr/film/fichefilm-15105/cr...</td>\n",
       "      <td>Et si, dans les 5 premières minutes du film, l...</td>\n",
       "      <td>0</td>\n",
       "    </tr>\n",
       "    <tr>\n",
       "      <th>3</th>\n",
       "      <td>3</td>\n",
       "      <td>http://www.allocine.fr/film/fichefilm-188629/c...</td>\n",
       "      <td>Mon dieu ! Quelle métaphore filée ! Je suis ab...</td>\n",
       "      <td>0</td>\n",
       "    </tr>\n",
       "    <tr>\n",
       "      <th>4</th>\n",
       "      <td>4</td>\n",
       "      <td>http://www.allocine.fr/film/fichefilm-23514/cr...</td>\n",
       "      <td>Premier film de la saga Kozure Okami, \"Le Sabr...</td>\n",
       "      <td>1</td>\n",
       "    </tr>\n",
       "  </tbody>\n",
       "</table>\n",
       "</div>"
      ],
      "text/plain": [
       "   Unnamed: 0                                           film-url  \\\n",
       "0           0  http://www.allocine.fr/film/fichefilm-135259/c...   \n",
       "1           1  http://www.allocine.fr/film/fichefilm-172430/c...   \n",
       "2           2  http://www.allocine.fr/film/fichefilm-15105/cr...   \n",
       "3           3  http://www.allocine.fr/film/fichefilm-188629/c...   \n",
       "4           4  http://www.allocine.fr/film/fichefilm-23514/cr...   \n",
       "\n",
       "                                              review  polarity  \n",
       "0  Si vous cherchez du cinéma abrutissant à tous ...         0  \n",
       "1  Trash, re-trash et re-re-trash...! Une horreur...         0  \n",
       "2  Et si, dans les 5 premières minutes du film, l...         0  \n",
       "3  Mon dieu ! Quelle métaphore filée ! Je suis ab...         0  \n",
       "4  Premier film de la saga Kozure Okami, \"Le Sabr...         1  "
      ]
     },
     "execution_count": 4,
     "metadata": {},
     "output_type": "execute_result"
    }
   ],
   "source": [
    "train_data.head()"
   ]
  },
  {
   "cell_type": "markdown",
   "id": "00149dfd",
   "metadata": {},
   "source": [
    "**phase de tokenisation**"
   ]
  },
  {
   "cell_type": "code",
   "execution_count": 5,
   "id": "0d14600e",
   "metadata": {},
   "outputs": [],
   "source": [
    "train_reviews = train_data.review.values\n",
    "test_reviews  = test_data.review.values"
   ]
  },
  {
   "cell_type": "markdown",
   "id": "18cf7642",
   "metadata": {},
   "source": [
    "On a changé le **step_words** pour utiliser le dictionnaire Francais"
   ]
  },
  {
   "cell_type": "code",
   "execution_count": 6,
   "id": "c23e3c4e",
   "metadata": {},
   "outputs": [
    {
     "name": "stderr",
     "output_type": "stream",
     "text": [
      "/Users/amadouu/M2_ML/my_env/lib/python3.12/site-packages/sklearn/feature_extraction/text.py:406: UserWarning: Your stop_words may be inconsistent with your preprocessing. Tokenizing the stop words generated tokens ['neuf', 'qu', 'quelqu'] not in stop_words.\n",
      "  warnings.warn(\n"
     ]
    }
   ],
   "source": [
    "vectorizer = TfidfVectorizer(stop_words=list(fr_stop))\n",
    "train_reviews_vectorised = vectorizer.fit_transform(train_reviews)\n",
    "test_reviews_vectorised = vectorizer.transform(test_reviews)\n"
   ]
  },
  {
   "cell_type": "markdown",
   "id": "59cf9439",
   "metadata": {},
   "source": []
  },
  {
   "cell_type": "markdown",
   "id": "aac59921",
   "metadata": {},
   "source": [
    "### Conception du modéle"
   ]
  },
  {
   "cell_type": "code",
   "execution_count": null,
   "id": "0c439de0",
   "metadata": {},
   "outputs": [
    {
     "ename": "",
     "evalue": "",
     "output_type": "error",
     "traceback": [
      "\u001b[1;31mThe Kernel crashed while executing code in the current cell or a previous cell. \n",
      "\u001b[1;31mPlease review the code in the cell(s) to identify a possible cause of the failure. \n",
      "\u001b[1;31mClick <a href='https://aka.ms/vscodeJupyterKernelCrash'>here</a> for more info. \n",
      "\u001b[1;31mView Jupyter <a href='command:jupyter.viewOutput'>log</a> for further details."
     ]
    }
   ],
   "source": [
    "from sklearn.linear_model import LogisticRegression\n",
    "from sklearn.metrics import accuracy_score,classification_report"
   ]
  },
  {
   "cell_type": "markdown",
   "id": "12f430b6",
   "metadata": {},
   "source": [
    "**phase d'entrainement du modéle**"
   ]
  },
  {
   "cell_type": "code",
   "execution_count": 1,
   "id": "dd03247b",
   "metadata": {},
   "outputs": [
    {
     "ename": "NameError",
     "evalue": "name 'train_reviews_vectorised' is not defined",
     "output_type": "error",
     "traceback": [
      "\u001b[0;31m---------------------------------------------------------------------------\u001b[0m",
      "\u001b[0;31mNameError\u001b[0m                                 Traceback (most recent call last)",
      "Cell \u001b[0;32mIn[1], line 1\u001b[0m\n\u001b[0;32m----> 1\u001b[0m X_train, y_train \u001b[38;5;241m=\u001b[39m \u001b[43mtrain_reviews_vectorised\u001b[49m\u001b[38;5;241m.\u001b[39mtoarray(),train_data[\u001b[38;5;124m'\u001b[39m\u001b[38;5;124mpolarity\u001b[39m\u001b[38;5;124m'\u001b[39m]\n\u001b[1;32m      2\u001b[0m X_test , y_test \u001b[38;5;241m=\u001b[39m test_reviews_vectorised\u001b[38;5;241m.\u001b[39mtoarray(),test_data[\u001b[38;5;124m'\u001b[39m\u001b[38;5;124mpolarity\u001b[39m\u001b[38;5;124m'\u001b[39m]\n\u001b[1;32m      4\u001b[0m \u001b[38;5;66;03m## defining the model\u001b[39;00m\n",
      "\u001b[0;31mNameError\u001b[0m: name 'train_reviews_vectorised' is not defined"
     ]
    }
   ],
   "source": [
    "X_train, y_train = train_reviews_vectorised.toarray(),train_data['polarity']\n",
    "X_test , y_test = test_reviews_vectorised.toarray(),test_data['polarity']\n",
    "\n",
    "## defining the model\n",
    "model = LogisticRegression()\n",
    "model.fit(train_reviews_vectorised,y_train)\n",
    "## Prediction on test data\n",
    "y_pred = model.predict(test_reviews_vectorised)"
   ]
  },
  {
   "cell_type": "code",
   "execution_count": null,
   "id": "1026e494",
   "metadata": {},
   "outputs": [],
   "source": [
    "print(\"Accuracy on test is:\",accuracy_score(y_test,y_pred))\n",
    "# classification report\n",
    "report = classification_report(y_test, y_pred)\n",
    "print(report)\n",
    "\n",
    "\n"
   ]
  },
  {
   "cell_type": "markdown",
   "id": "c5801939",
   "metadata": {},
   "source": [
    "**Commentaires :**\n",
    "\n",
    "Globalement, le modèle est performant avec une excellente précision et un bon rappel sur la plupart des classes. L'approche sac-de-mots a bien fonctionné ici.\n",
    "- earn: Le modèle identifie très bien les documents de cette classe, avec un rappel élevé (95%), ce qui signifie que peu de documents de cette classe sont manqués.\n",
    "- acq: Ce score est également très bon. La légère différence entre précision et rappel indique que le modèle a tendance à être un peu plus conservateur lorsqu'il prédit cette catégorie.\n",
    "- money-fx:  Bien que la précision soit élevée (94%), le rappel est plus bas (85%). Cela signifie que certains documents de cette classe sont mal classés dans une autre catégorie.\n",
    "- grain: Le modèle performe exceptionnellement bien sur cette catégorie, avec un F1-score de 0.94, ce qui est excellent."
   ]
  }
 ],
 "metadata": {
  "kernelspec": {
   "display_name": "my_env",
   "language": "python",
   "name": "my_env"
  },
  "language_info": {
   "codemirror_mode": {
    "name": "ipython",
    "version": 3
   },
   "file_extension": ".py",
   "mimetype": "text/x-python",
   "name": "python",
   "nbconvert_exporter": "python",
   "pygments_lexer": "ipython3",
   "version": "3.12.6"
  }
 },
 "nbformat": 4,
 "nbformat_minor": 5
}
