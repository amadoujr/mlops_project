{
 "cells": [
  {
   "cell_type": "code",
   "execution_count": 7,
   "metadata": {},
   "outputs": [],
   "source": [
    "import mlflow\n",
    "from mlflow.models import infer_signature\n",
    "from mlflow import MlflowClient\n",
    "import pandas as pd\n",
    "from sklearn.feature_extraction.text import TfidfVectorizer\n",
    "from sklearn.linear_model import LogisticRegression\n",
    "from sklearn.metrics import accuracy_score, precision_score, recall_score, f1_score\n",
    "import spacy\n",
    "from spacy.lang.fr.stop_words import STOP_WORDS as fr_stop"
   ]
  },
  {
   "cell_type": "code",
   "execution_count": 3,
   "metadata": {},
   "outputs": [],
   "source": [
    "nlp = spacy.load(\"fr_core_news_sm\")\n",
    "train_data = pd.read_csv(\"../archive/train.csv\")\n",
    "valid_data = pd.read_csv(\"../archive/valid.csv\")\n",
    "test_data  = pd.read_csv(\"../archive/test.csv\")\n",
    "\n",
    "train_reviews = train_data.review.values\n",
    "test_reviews  = test_data.review.values\n"
   ]
  },
  {
   "cell_type": "code",
   "execution_count": 4,
   "metadata": {},
   "outputs": [
    {
     "name": "stderr",
     "output_type": "stream",
     "text": [
      "/Users/amadouu/M2_ML/NLP/env_nlp/lib/python3.12/site-packages/sklearn/feature_extraction/text.py:406: UserWarning: Your stop_words may be inconsistent with your preprocessing. Tokenizing the stop words generated tokens ['neuf', 'qu', 'quelqu'] not in stop_words.\n",
      "  warnings.warn(\n"
     ]
    }
   ],
   "source": [
    "vectorizer = TfidfVectorizer(stop_words=list(fr_stop))\n",
    "train_reviews_vectorised = vectorizer.fit_transform(train_reviews)\n",
    "test_reviews_vectorised = vectorizer.transform(test_reviews)\n"
   ]
  },
  {
   "cell_type": "code",
   "execution_count": 5,
   "metadata": {},
   "outputs": [],
   "source": [
    "y_train = train_data['polarity']\n",
    "y_test  = test_data['polarity']\n",
    "\n",
    "## defining the model\n",
    "model = LogisticRegression()"
   ]
  },
  {
   "cell_type": "code",
   "execution_count": null,
   "metadata": {},
   "outputs": [],
   "source": []
  },
  {
   "cell_type": "markdown",
   "metadata": {},
   "source": [
    "### MLFlow Tracking"
   ]
  },
  {
   "cell_type": "code",
   "execution_count": 11,
   "metadata": {},
   "outputs": [
    {
     "name": "stderr",
     "output_type": "stream",
     "text": [
      "2024/11/12 16:34:05 WARNING mlflow.models.model: Model logged without a signature and input example. Please set `input_example` parameter when logging the model to auto infer the model signature.\n",
      "Registered model 'logistic_model' already exists. Creating a new version of this model...\n",
      "2024/11/12 16:34:05 INFO mlflow.store.model_registry.abstract_store: Waiting up to 300 seconds for model version to finish creation. Model name: logistic_model, version 2\n",
      "Created version '2' of model 'logistic_model'.\n",
      "2024/11/12 16:34:05 INFO mlflow.tracking._tracking_service.client: 🏃 View run placid-duck-186 at: http://127.0.0.1:5000/#/experiments/714668274150591966/runs/1e9864d16bfa49ec8e07376f3a492ceb.\n",
      "2024/11/12 16:34:05 INFO mlflow.tracking._tracking_service.client: 🧪 View experiment at: http://127.0.0.1:5000/#/experiments/714668274150591966.\n"
     ]
    }
   ],
   "source": [
    "# Set our tracking server uri for logging\n",
    "import subprocess\n",
    "\n",
    "\n",
    "mlflow.set_tracking_uri(uri=\"http://127.0.0.1:5000\")\n",
    "# Create a new MLflow Experiment\n",
    "mlflow.set_experiment(\"MLflow Quickstart\")\n",
    "\n",
    "# Start an MLflow run\n",
    "with mlflow.start_run():\n",
    "    mlflow.sklearn.autolog(log_datasets=False)\n",
    "    # Log the hyperparameters\n",
    "    #mlflow.log_params(params)\n",
    "    model.fit(train_reviews_vectorised,y_train)\n",
    "    y_pred = model.predict(test_reviews_vectorised)\n",
    "    # Log the loss metric\n",
    "    accuracy = accuracy_score(y_test,y_pred)\n",
    "    precision = precision_score(y_test,y_pred)\n",
    "    recall   = recall_score(y_test,y_pred)\n",
    "\n",
    "    mlflow.log_metric(\"accuracy_test\", accuracy)\n",
    "    mlflow.log_metric(\"recall_test\", recall)\n",
    "    mlflow.log_metric(\"precision_test\",precision)\n",
    "    commit = subprocess.check_output(['git',\"rev-parse\",\"HEAD\"]).strip().decode(\"utf-8\")\n",
    "    branch = subprocess.check_output([\"git\",\"rev-parse\",\"--abbrev-ref\",\"HEAD\"]).strip().decode(\"utf-8\")\n",
    "    source_name = \"model_design_2.ipynb\"\n",
    "    mlflow.set_tag(\"mlflow.source.git.commit\",commit)\n",
    "    mlflow.set_tag(\"mlflow.source.git.branch\",branch)\n",
    "    mlflow.set_tag(\"mlflow.source.name\",source_name)\n",
    "\n",
    "    name = \"LogisticRegression\"\n",
    "    tags = {\"no_idea_key\": \"no_idea_value\"}\n",
    "    desc = \"this model classifies the relevance of a film.\"\n",
    "    \n",
    "    # Set a tag that we can use to remind ourselves what this run was for\n",
    "    mlflow.set_tag(\"Training Info\", \"Basic LR model for review relevant\")\n",
    "    mlflow.set_tag(\"Preprocessing\", \"TF-IDF Vectorizer\")\n",
    "\n",
    "    # Infer the model signature\n",
    "    #signature = infer_signature(train_reviews_vectorised, model.predict(test_reviews_vectorised))\n",
    "    # Log the model\n",
    "    model_info = mlflow.sklearn.log_model(\n",
    "        sk_model=model,\n",
    "        artifact_path=\"Logistic_Regression v1\",\n",
    "        registered_model_name=\"logistic_model\",\n",
    "\n",
    "    )\n",
    "    client = MlflowClient()\n",
    "    client.set_registered_model_tag(\"logistic_model\", \"tags\", \"no idea\")\n",
    "\n"
   ]
  },
  {
   "cell_type": "code",
   "execution_count": null,
   "metadata": {},
   "outputs": [],
   "source": []
  }
 ],
 "metadata": {
  "kernelspec": {
   "display_name": "env_nlp",
   "language": "python",
   "name": "env_nlp"
  },
  "language_info": {
   "codemirror_mode": {
    "name": "ipython",
    "version": 3
   },
   "file_extension": ".py",
   "mimetype": "text/x-python",
   "name": "python",
   "nbconvert_exporter": "python",
   "pygments_lexer": "ipython3",
   "version": "3.12.6"
  }
 },
 "nbformat": 4,
 "nbformat_minor": 2
}
