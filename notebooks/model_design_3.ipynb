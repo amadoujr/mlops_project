{
 "cells": [
  {
   "cell_type": "code",
   "execution_count": 6,
   "metadata": {},
   "outputs": [],
   "source": [
    "import mlflow\n",
    "from mlflow.models import infer_signature\n",
    "import mlflow.sklearn\n",
    "import spacy\n",
    "import pandas as pd\n",
    "from sklearn.metrics import accuracy_score, precision_score, recall_score\n",
    "from spacy.lang.fr.stop_words import STOP_WORDS as fr_stop"
   ]
  },
  {
   "cell_type": "code",
   "execution_count": 12,
   "metadata": {},
   "outputs": [],
   "source": [
    "def build_model(\n",
    "    training_set,\n",
    "    pipeline,\n",
    "    mlflow_run_tags=None,\n",
    "    mlflow_run_parameters=None,\n",
    "    mlflow_run_description=None,\n",
    "    validation_set=None\n",
    "):\n",
    "    \"\"\"\n",
    "    Build a sentiment analysis model, print the evaluation result and store everything to MLFlow.\n",
    "\n",
    "    @param: training_set: pandas dataframe containing the input training set\n",
    "    @param: pipeline: scikit-learn pipeline that will be applied to the input data\n",
    "    @param: mlflow_run_tags: dict of tags that will be stored in the MLFlow run\n",
    "    @param: mlflow_run_parameters: dict of parameters that will be stored in the MLFlow run\n",
    "    @param: mlflow_run_description: textual description of the run\n",
    "    @param: validation_set: if provided, used to evaluate the model and log result in MLFlow\n",
    "    @return: the trained pipeline\n",
    "    \"\"\"\n",
    "    # Séparation des features et des labels\n",
    "    X_train,y_train = training_set[0], training_set[1]\n",
    "    if validation_set is not None:\n",
    "        X_val,y_val  = validation_set[0],validation_set[1]\n",
    "    with mlflow.start_run() as run:\n",
    "        mlflow.sklearn.autolog(log_datasets=False)\n",
    "        # Ajout de tags\n",
    "        if mlflow_run_tags:\n",
    "            for tag, value in mlflow_run_tags.items():\n",
    "                mlflow.set_tag(tag, value)        \n",
    "        if mlflow_run_parameters:\n",
    "            for param, value in mlflow_run_parameters.items():\n",
    "                mlflow.log_param(param, value)\n",
    "        if mlflow_run_description:\n",
    "            mlflow.set_tag(\"Description\", mlflow_run_description)\n",
    "\n",
    "        # Entraînement le modèle\n",
    "        pipeline.fit(X_train, y_train)\n",
    "        # Évaluer le modèle si le jeu de validation est fourni\n",
    "        if validation_set is not None:\n",
    "            y_pred = pipeline.predict(X_val)\n",
    "            accuracy = accuracy_score(y_val, y_pred)\n",
    "            precision = precision_score(y_val, y_pred)\n",
    "            recall = recall_score(y_val, y_pred)\n",
    "            \n",
    "            # Logger les métriques dans MLflow\n",
    "            mlflow.log_metric(\"accuracy_val\", accuracy)\n",
    "            mlflow.log_metric(\"precision_val\", precision)\n",
    "            mlflow.log_metric(\"recall_val\", recall)\n",
    "        mlflow.sklearn.log_model(pipeline, \"model_pipeline\")\n",
    "\n",
    "    return pipeline\n"
   ]
  },
  {
   "cell_type": "code",
   "execution_count": 9,
   "metadata": {},
   "outputs": [],
   "source": [
    "nlp = spacy.load(\"fr_core_news_sm\")\n",
    "train_data = pd.read_csv(\"../archive/train.csv\")\n",
    "valid_data = pd.read_csv(\"../archive/valid.csv\")\n",
    "test_data  = pd.read_csv(\"../archive/test.csv\")\n",
    "\n",
    "train_reviews = train_data.review.values\n",
    "valid_review  = valid_data.review.values\n",
    "\n",
    "y_val  = valid_data['polarity']\n",
    "y_train = train_data['polarity']"
   ]
  },
  {
   "cell_type": "markdown",
   "metadata": {},
   "source": [
    "### Experimentations\n"
   ]
  },
  {
   "cell_type": "code",
   "execution_count": null,
   "metadata": {},
   "outputs": [
    {
     "name": "stderr",
     "output_type": "stream",
     "text": [
      "/Users/amadouu/M2_ML/NLP/env_nlp/lib/python3.12/site-packages/sklearn/feature_extraction/text.py:406: UserWarning: Your stop_words may be inconsistent with your preprocessing. Tokenizing the stop words generated tokens ['neuf', 'qu', 'quelqu'] not in stop_words.\n",
      "  warnings.warn(\n",
      "2024/11/12 17:30:11 WARNING mlflow.models.model: Model logged without a signature and input example. Please set `input_example` parameter when logging the model to auto infer the model signature.\n",
      "2024/11/12 17:30:11 INFO mlflow.tracking._tracking_service.client: 🏃 View run secretive-wasp-751 at: http://127.0.0.1:5000/#/experiments/999691338119668531/runs/c7b822185b154413a28079b9c6fc94e1.\n",
      "2024/11/12 17:30:11 INFO mlflow.tracking._tracking_service.client: 🧪 View experiment at: http://127.0.0.1:5000/#/experiments/999691338119668531.\n",
      "/Users/amadouu/M2_ML/NLP/env_nlp/lib/python3.12/site-packages/sklearn/feature_extraction/text.py:406: UserWarning: Your stop_words may be inconsistent with your preprocessing. Tokenizing the stop words generated tokens ['neuf', 'qu', 'quelqu'] not in stop_words.\n",
      "  warnings.warn(\n",
      "2024/11/12 17:32:35 WARNING mlflow.models.model: Model logged without a signature and input example. Please set `input_example` parameter when logging the model to auto infer the model signature.\n",
      "2024/11/12 17:32:35 INFO mlflow.tracking._tracking_service.client: 🏃 View run bedecked-owl-858 at: http://127.0.0.1:5000/#/experiments/999691338119668531/runs/384aee30ee6644c1a9284c352c0d0756.\n",
      "2024/11/12 17:32:35 INFO mlflow.tracking._tracking_service.client: 🧪 View experiment at: http://127.0.0.1:5000/#/experiments/999691338119668531.\n",
      "/Users/amadouu/M2_ML/NLP/env_nlp/lib/python3.12/site-packages/sklearn/feature_extraction/text.py:406: UserWarning: Your stop_words may be inconsistent with your preprocessing. Tokenizing the stop words generated tokens ['neuf', 'qu', 'quelqu'] not in stop_words.\n",
      "  warnings.warn(\n"
     ]
    }
   ],
   "source": [
    "from sklearn.linear_model import LogisticRegression\n",
    "from sklearn.pipeline import Pipeline\n",
    "from sklearn.feature_extraction.text import TfidfVectorizer\n",
    "from sklearn.naive_bayes import MultinomialNB\n",
    "\n",
    "\n",
    "mlflow.set_tracking_uri(uri=\"http://127.0.0.1:5000\")\n",
    "\n",
    "mlflow.set_experiment(\"MLflow log_reg experience\")\n",
    "\n",
    "MAX_ITER = 500\n",
    "scores = []\n",
    "estimators = [('pre_processing', TfidfVectorizer(stop_words=list(fr_stop))),('lrg', LogisticRegression())]\n",
    "parameters = {'C': [0.01, 0.1, 1, 10, 100], 'penalty': ['l1','l2']}\n",
    "for c in parameters.get('C'):\n",
    "    for pen in parameters.get('penalty'):\n",
    "        lg = LogisticRegression(C=c, penalty=pen, max_iter=MAX_ITER, solver='liblinear', random_state=42)\n",
    "        estimators = [('pre_processing', TfidfVectorizer(stop_words=list(fr_stop))),('lrg', lg)]\n",
    "        pipe = Pipeline(estimators)\n",
    "        pipe_res  = build_model((train_reviews,y_train),pipe,validation_set=(valid_review,y_val))\n",
    "\n"
   ]
  },
  {
   "cell_type": "code",
   "execution_count": null,
   "metadata": {},
   "outputs": [],
   "source": []
  }
 ],
 "metadata": {
  "kernelspec": {
   "display_name": "env_nlp",
   "language": "python",
   "name": "env_nlp"
  },
  "language_info": {
   "codemirror_mode": {
    "name": "ipython",
    "version": 3
   },
   "file_extension": ".py",
   "mimetype": "text/x-python",
   "name": "python",
   "nbconvert_exporter": "python",
   "pygments_lexer": "ipython3",
   "version": "3.12.6"
  }
 },
 "nbformat": 4,
 "nbformat_minor": 2
}
